{
 "cells": [
  {
   "cell_type": "code",
   "execution_count": 1,
   "id": "ce20e854-3d25-48c8-9d04-70f079dcd3fe",
   "metadata": {},
   "outputs": [],
   "source": [
    "import pandas as pd\n",
    "import statsmodels.formula.api as smf\n",
    "import warnings\n",
    "warnings.filterwarnings('ignore')"
   ]
  },
  {
   "cell_type": "code",
   "execution_count": 4,
   "id": "01b89533-a803-4667-b163-0b0d207a2616",
   "metadata": {},
   "outputs": [],
   "source": [
    "df = pd.read_excel(\"D:/Projects/Capstone_Projects/Final project/Data set.xlsx\")"
   ]
  },
  {
   "cell_type": "code",
   "execution_count": 5,
   "id": "e4e2f421-c425-4700-ba7e-61e8b7f04f51",
   "metadata": {},
   "outputs": [
    {
     "data": {
      "text/html": [
       "<div>\n",
       "<style scoped>\n",
       "    .dataframe tbody tr th:only-of-type {\n",
       "        vertical-align: middle;\n",
       "    }\n",
       "\n",
       "    .dataframe tbody tr th {\n",
       "        vertical-align: top;\n",
       "    }\n",
       "\n",
       "    .dataframe thead th {\n",
       "        text-align: right;\n",
       "    }\n",
       "</style>\n",
       "<table border=\"1\" class=\"dataframe\">\n",
       "  <thead>\n",
       "    <tr style=\"text-align: right;\">\n",
       "      <th></th>\n",
       "      <th>CPI</th>\n",
       "      <th>discounts</th>\n",
       "      <th>offers</th>\n",
       "      <th>Sales</th>\n",
       "    </tr>\n",
       "  </thead>\n",
       "  <tbody>\n",
       "    <tr>\n",
       "      <th>0</th>\n",
       "      <td>2600</td>\n",
       "      <td>3</td>\n",
       "      <td>20</td>\n",
       "      <td>550000</td>\n",
       "    </tr>\n",
       "    <tr>\n",
       "      <th>1</th>\n",
       "      <td>3000</td>\n",
       "      <td>4</td>\n",
       "      <td>15</td>\n",
       "      <td>565000</td>\n",
       "    </tr>\n",
       "    <tr>\n",
       "      <th>2</th>\n",
       "      <td>3200</td>\n",
       "      <td>5</td>\n",
       "      <td>18</td>\n",
       "      <td>610000</td>\n",
       "    </tr>\n",
       "    <tr>\n",
       "      <th>3</th>\n",
       "      <td>3600</td>\n",
       "      <td>3</td>\n",
       "      <td>30</td>\n",
       "      <td>595000</td>\n",
       "    </tr>\n",
       "    <tr>\n",
       "      <th>4</th>\n",
       "      <td>4000</td>\n",
       "      <td>5</td>\n",
       "      <td>8</td>\n",
       "      <td>760000</td>\n",
       "    </tr>\n",
       "    <tr>\n",
       "      <th>5</th>\n",
       "      <td>4100</td>\n",
       "      <td>6</td>\n",
       "      <td>8</td>\n",
       "      <td>810000</td>\n",
       "    </tr>\n",
       "  </tbody>\n",
       "</table>\n",
       "</div>"
      ],
      "text/plain": [
       "    CPI  discounts  offers   Sales\n",
       "0  2600          3      20  550000\n",
       "1  3000          4      15  565000\n",
       "2  3200          5      18  610000\n",
       "3  3600          3      30  595000\n",
       "4  4000          5       8  760000\n",
       "5  4100          6       8  810000"
      ]
     },
     "execution_count": 5,
     "metadata": {},
     "output_type": "execute_result"
    }
   ],
   "source": [
    "df"
   ]
  },
  {
   "cell_type": "code",
   "execution_count": 6,
   "id": "99a22ce7-d9c4-42a3-ab02-6f6c692cd6c5",
   "metadata": {},
   "outputs": [],
   "source": [
    "X = df.iloc[:,0:3]"
   ]
  },
  {
   "cell_type": "code",
   "execution_count": 7,
   "id": "0cbd39e1-3c78-46d7-a781-866de5062718",
   "metadata": {},
   "outputs": [],
   "source": [
    "Y = df['Sales']"
   ]
  },
  {
   "cell_type": "code",
   "execution_count": 8,
   "id": "a56f35bb-32d1-4c9b-be72-bbb00b894144",
   "metadata": {},
   "outputs": [],
   "source": [
    "from sklearn.metrics import mean_absolute_error\n",
    "from sklearn.metrics import mean_squared_error\n",
    "from sklearn.metrics import r2_score\n",
    "from sklearn import linear_model"
   ]
  },
  {
   "cell_type": "code",
   "execution_count": 9,
   "id": "4a24a901-8575-47d3-9f7c-38c1bc76cd02",
   "metadata": {},
   "outputs": [],
   "source": [
    "model = linear_model.LinearRegression()\n",
    "model.fit(X,Y)\n",
    "y_pred = model.predict(X)"
   ]
  },
  {
   "cell_type": "code",
   "execution_count": 10,
   "id": "0638276f-0a11-4600-825b-0b0bbd43f800",
   "metadata": {},
   "outputs": [
    {
     "data": {
      "text/plain": [
       "array([  128.43512778,  5913.51964731, -4902.54602054])"
      ]
     },
     "execution_count": 10,
     "metadata": {},
     "output_type": "execute_result"
    }
   ],
   "source": [
    "model.coef_"
   ]
  },
  {
   "cell_type": "code",
   "execution_count": 11,
   "id": "4f9e86e3-7769-42d7-95f8-35ab8e7e71b3",
   "metadata": {},
   "outputs": [
    {
     "data": {
      "text/plain": [
       "264780.07095467113"
      ]
     },
     "execution_count": 11,
     "metadata": {},
     "output_type": "execute_result"
    }
   ],
   "source": [
    "model.intercept_"
   ]
  },
  {
   "cell_type": "code",
   "execution_count": 12,
   "id": "505f02a7-d975-4fd5-b136-ce3df344b6c8",
   "metadata": {},
   "outputs": [
    {
     "name": "stdout",
     "output_type": "stream",
     "text": [
      "R squared: 0.9517053277318956\n"
     ]
    }
   ],
   "source": [
    "print(\"R squared: {}\".format(r2_score(y_true=Y,y_pred=y_pred)))"
   ]
  },
  {
   "cell_type": "markdown",
   "id": "8df4d287-8c8a-4d2e-a472-2655ad1f3574",
   "metadata": {},
   "source": [
    "5000 cpi , 3 percentage discounts, 20 rewards offers\n",
    "\n",
    "4000 cpi , 8 percentage discounts, 19 rewards offers"
   ]
  },
  {
   "cell_type": "code",
   "execution_count": 13,
   "id": "1fc8d910-aabb-4faf-9f33-e4d45447fe55",
   "metadata": {},
   "outputs": [
    {
     "name": "stdout",
     "output_type": "stream",
     "text": [
      "826645.3483822161\n"
     ]
    }
   ],
   "source": [
    "print(*model.predict([[5000,3,20]]))"
   ]
  },
  {
   "cell_type": "code",
   "execution_count": 15,
   "id": "bbff3131-d8ef-46f4-a4fa-5713343ecb0e",
   "metadata": {},
   "outputs": [
    {
     "name": "stdout",
     "output_type": "stream",
     "text": [
      "732680.3648600471\n"
     ]
    }
   ],
   "source": [
    "print(*model.predict([[4000,8,19]]))"
   ]
  },
  {
   "cell_type": "code",
   "execution_count": 16,
   "id": "262c9618-646e-4f12-a5df-11c1a1811d79",
   "metadata": {},
   "outputs": [],
   "source": [
    "def predict_sales(cpi,per,rew):\n",
    "    sales = 264780.07095467113 + 128.43512778*cpi + 5913.51964731*per + (-4902.54602054*rew)\n",
    "    print(sales)"
   ]
  },
  {
   "cell_type": "code",
   "execution_count": 17,
   "id": "41c7ba45-00d1-49b7-91c8-30cf8f2841e0",
   "metadata": {},
   "outputs": [
    {
     "name": "stdout",
     "output_type": "stream",
     "text": [
      "826645.348385801\n"
     ]
    }
   ],
   "source": [
    "predict_sales(5000,3,20)"
   ]
  },
  {
   "cell_type": "code",
   "execution_count": 18,
   "id": "8b11e20c-8eca-4f4c-9731-94c4a066f7f1",
   "metadata": {},
   "outputs": [
    {
     "name": "stdout",
     "output_type": "stream",
     "text": [
      "732680.364862891\n"
     ]
    }
   ],
   "source": [
    "predict_sales(4000,8,19)"
   ]
  },
  {
   "cell_type": "code",
   "execution_count": null,
   "id": "134c641c-90b6-4ed4-bbc2-913736a5eeaa",
   "metadata": {},
   "outputs": [],
   "source": []
  },
  {
   "cell_type": "code",
   "execution_count": null,
   "id": "1c2ca1ff-c603-4c27-b451-bb5e995409f7",
   "metadata": {},
   "outputs": [],
   "source": []
  },
  {
   "cell_type": "code",
   "execution_count": null,
   "id": "757576a4-97e0-4107-9c24-5176efec31d2",
   "metadata": {},
   "outputs": [],
   "source": []
  }
 ],
 "metadata": {
  "kernelspec": {
   "display_name": "Python 3 (ipykernel)",
   "language": "python",
   "name": "python3"
  },
  "language_info": {
   "codemirror_mode": {
    "name": "ipython",
    "version": 3
   },
   "file_extension": ".py",
   "mimetype": "text/x-python",
   "name": "python",
   "nbconvert_exporter": "python",
   "pygments_lexer": "ipython3",
   "version": "3.11.5"
  }
 },
 "nbformat": 4,
 "nbformat_minor": 5
}
